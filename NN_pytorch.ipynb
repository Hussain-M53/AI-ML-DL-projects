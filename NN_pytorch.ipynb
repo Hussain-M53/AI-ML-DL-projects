{
  "nbformat": 4,
  "nbformat_minor": 0,
  "metadata": {
    "colab": {
      "provenance": [],
      "authorship_tag": "ABX9TyME3g1ZuSQt5n6RkgNHMgEq"
    },
    "kernelspec": {
      "name": "python3",
      "display_name": "Python 3"
    },
    "language_info": {
      "name": "python"
    },
    "accelerator": "GPU",
    "gpuClass": "standard"
  },
  "cells": [
    {
      "cell_type": "markdown",
      "source": [
        "#**Part 1**\n",
        "\n",
        "\n",
        "---\n",
        "\n",
        "\n",
        "###Fully Connected Neural Neural using Pytorch"
      ],
      "metadata": {
        "id": "KaYgid_NRKBx"
      }
    },
    {
      "cell_type": "markdown",
      "source": [
        "###Model"
      ],
      "metadata": {
        "id": "GLP3uT_OnKa4"
      }
    },
    {
      "cell_type": "code",
      "execution_count": null,
      "metadata": {
        "id": "aaQ38lLTNpXy"
      },
      "outputs": [],
      "source": [
        "import torch\n",
        "import torch.nn as nn\n",
        "\n",
        "input_size = 784 # 28x28\n",
        "hidden_size = 128\n",
        "output_size = 10\n",
        "\n",
        "# Define the neural network architecture\n",
        "class NeuralNetwork(nn.Module):\n",
        "    def __init__(self,nonlin):\n",
        "        super(NeuralNetwork, self).__init__()\n",
        "        self.fc1 = nn.Linear(input_size, hidden_size)  # Fully connected layer 1\n",
        "        self.fc2 = nn.Linear(hidden_size, hidden_size)  # Fully connected layer 2\n",
        "        self.fc3 = nn.Linear(hidden_size, output_size)  # Fully connected layer 3\n",
        "\n",
        "        if nonlin == 'relu':\n",
        "            self.nonlin = nn.ReLU()\n",
        "        elif nonlin == 'sigmoid':\n",
        "            self.nonlin = nn.Sigmoid()\n",
        "        elif nonlin == 'tanh':\n",
        "            self.nonlin = nn.Tanh()\n",
        "        elif nonlin == 'swish':\n",
        "            self.nonlin = nn.SiLU()\n",
        "\n",
        "    def forward(self, x):\n",
        "        x = self.fc1(x)\n",
        "        x = self.nonlin(x)\n",
        "        x = self.fc2(x)\n",
        "        x = self.nonlin(x)\n",
        "        x = self.fc3(x)\n",
        "        return x"
      ]
    },
    {
      "cell_type": "markdown",
      "source": [
        "###Model Fitting/Training with Train Dataset"
      ],
      "metadata": {
        "id": "7xZP4v7xQdPq"
      }
    },
    {
      "cell_type": "code",
      "source": [
        "def fit(net,learning_rate):\n",
        "  optimizer = torch.optim.SGD(net.parameters(), lr=learning_rate)\n",
        "  ce_loss = nn.CrossEntropyLoss()\n",
        "  for epoch in range(num_epochs):\n",
        "      running_loss = 0.0\n",
        "      running_acc = 0.0\n",
        "      for _, data in enumerate(train_loader, 0):\n",
        "          X, y = data\n",
        "          optimizer.zero_grad()\n",
        "          outputs = net(X.view(-1, input_size))\n",
        "          loss = ce_loss(outputs, y)\n",
        "          loss.backward()\n",
        "          optimizer.step() \n",
        "          running_loss += loss.item() * X.size(0)\n",
        "          pred = outputs.argmax(dim=1, keepdim=True)\n",
        "          running_acc += pred.eq(y.view_as(pred)).sum().item() \n",
        "      print (f' Epoch [{epoch+1}/{num_epochs}], Loss: {running_loss/len(train_loader.dataset):.4f}, acc: {running_acc/len(train_loader.dataset):.4f}')\n"
      ],
      "metadata": {
        "id": "1QHPddCvQaYP"
      },
      "execution_count": null,
      "outputs": []
    },
    {
      "cell_type": "markdown",
      "source": [
        "###Prediction"
      ],
      "metadata": {
        "id": "ZBsqNbFaSWBe"
      }
    },
    {
      "cell_type": "code",
      "source": [
        "# Evaluate the network on the test set\n",
        "def predict(net):\n",
        "  correct = 0\n",
        "  total = 0\n",
        "  with torch.no_grad():\n",
        "      for data in test_loader:\n",
        "          X, y = data\n",
        "          outputs = net(X.view(-1, input_size))\n",
        "          _, predicted = torch.max(outputs.data, 1)\n",
        "          total += y.size(0)\n",
        "          correct += (predicted == y).sum().item()\n",
        "\n",
        "  print(' Accuracy on the test dataset: %d %%' % (100 * correct / total))\n"
      ],
      "metadata": {
        "id": "XJYGTsl1Ooic"
      },
      "execution_count": null,
      "outputs": []
    },
    {
      "cell_type": "markdown",
      "source": [
        "###Initializing dataset"
      ],
      "metadata": {
        "id": "eThbanJCQvsJ"
      }
    },
    {
      "cell_type": "code",
      "source": [
        "from torchvision import datasets, transforms\n",
        "import matplotlib.pyplot as plt\n",
        "from sklearn.model_selection import train_test_split\n",
        "\n",
        "# Define the batch size and number of epochs\n",
        "batch_size = 64\n",
        "num_epochs = 10\n",
        "# Define the input size, hidden size, and output size\n",
        "input_size = 784 # 28x28\n",
        "hidden_size = 128\n",
        "output_size = 10\n",
        "learning_rate= 0.01\n",
        "\n",
        "# Load the MNIST dataset\n",
        "\n",
        "# dataset to train model\n",
        "train_dataset = datasets.MNIST('data/', train=True, download=True, transform=transforms.ToTensor())\n",
        "train_loader = torch.utils.data.DataLoader(train_dataset, batch_size=batch_size, shuffle=True)\n",
        "\n",
        "# spliting the test data and validation data from test dataset\n",
        "test_dataset = datasets.MNIST('data/', train=False, download=True, transform=transforms.ToTensor())\n",
        "# X_val, X_test, y_val, y_test = train_test_split(test_dataset.data, test_dataset.targets, test_size=0.70, random_state=42)\n",
        "\n",
        "# #dataset to evaluate model\n",
        "# test_data = torch.tensor(X_test)\n",
        "# test_targets = torch.tensor(y_test)\n",
        "# test_dataset = torch.utils.data.TensorDataset(test_data, test_targets)\n",
        "test_loader = torch.utils.data.DataLoader(test_dataset, batch_size=batch_size, shuffle=True)\n",
        "\n",
        "#dataset to tune the hyper-parameters\n",
        "# val_data = torch.tensor(X_val)\n",
        "# val_targets = torch.tensor(y_val)\n",
        "# validation_dataset = torch.utils.data.TensorDataset(val_data, val_targets)\n",
        "validation_dataset = datasets.MNIST('data/', train=True, download=True, transform=transforms.ToTensor())\n",
        "validation_loader = torch.utils.data.DataLoader(validation_dataset, batch_size=batch_size, shuffle=True)\n",
        "\n",
        "train = iter(train_loader)\n",
        "train_data, train_targets = next(train)\n",
        "\n",
        "for i in range(6):\n",
        "    plt.subplot(2,3,i+1)\n",
        "    plt.imshow(train_data[i][0], cmap='gray')\n",
        "plt.show()\n",
        "\n",
        "# # network with RELU as activation function\n",
        "# print(\"Using RELU as activation function\")\n",
        "# net = NeuralNetwork(\"relu\")\n",
        "# fit(net,learning_rate)\n",
        "# predict(net)\n",
        "\n",
        "# # network with sigmoid as activation function\n",
        "# print(\"Using sigmoid as activation function\")\n",
        "# net = NeuralNetwork(\"sigmoid\")\n",
        "# fit(net,learning_rate)\n",
        "# predict(net)\n",
        "\n",
        "# # network with tanh as activation function\n",
        "# print(\"Using tanh as activation function\")\n",
        "# net = NeuralNetwork(\"tanh\")\n",
        "# fit(net,learning_rate)\n",
        "# predict(net)\n",
        "\n",
        "# # network with swish as activation function\n",
        "# print(\"Using swish as activation function\")\n",
        "# net = NeuralNetwork(\"swish\")\n",
        "# fit(net,learning_rate)\n",
        "# predict(net)\n",
        "\n"
      ],
      "metadata": {
        "colab": {
          "base_uri": "https://localhost:8080/",
          "height": 758
        },
        "id": "D8syfJ9GOmVS",
        "outputId": "fa74a7f1-84b6-490d-f0c4-cc36d2dbdc67"
      },
      "execution_count": null,
      "outputs": [
        {
          "output_type": "stream",
          "name": "stdout",
          "text": [
            "Downloading http://yann.lecun.com/exdb/mnist/train-images-idx3-ubyte.gz\n",
            "Downloading http://yann.lecun.com/exdb/mnist/train-images-idx3-ubyte.gz to data/MNIST/raw/train-images-idx3-ubyte.gz\n"
          ]
        },
        {
          "output_type": "stream",
          "name": "stderr",
          "text": [
            "100%|██████████| 9912422/9912422 [00:00<00:00, 354995997.51it/s]"
          ]
        },
        {
          "output_type": "stream",
          "name": "stdout",
          "text": [
            "Extracting data/MNIST/raw/train-images-idx3-ubyte.gz to data/MNIST/raw\n"
          ]
        },
        {
          "output_type": "stream",
          "name": "stderr",
          "text": [
            "\n"
          ]
        },
        {
          "output_type": "stream",
          "name": "stdout",
          "text": [
            "\n",
            "Downloading http://yann.lecun.com/exdb/mnist/train-labels-idx1-ubyte.gz\n",
            "Downloading http://yann.lecun.com/exdb/mnist/train-labels-idx1-ubyte.gz to data/MNIST/raw/train-labels-idx1-ubyte.gz\n"
          ]
        },
        {
          "output_type": "stream",
          "name": "stderr",
          "text": [
            "100%|██████████| 28881/28881 [00:00<00:00, 31752475.45it/s]\n"
          ]
        },
        {
          "output_type": "stream",
          "name": "stdout",
          "text": [
            "Extracting data/MNIST/raw/train-labels-idx1-ubyte.gz to data/MNIST/raw\n",
            "\n",
            "Downloading http://yann.lecun.com/exdb/mnist/t10k-images-idx3-ubyte.gz\n",
            "Downloading http://yann.lecun.com/exdb/mnist/t10k-images-idx3-ubyte.gz to data/MNIST/raw/t10k-images-idx3-ubyte.gz\n"
          ]
        },
        {
          "output_type": "stream",
          "name": "stderr",
          "text": [
            "100%|██████████| 1648877/1648877 [00:00<00:00, 157476407.69it/s]\n"
          ]
        },
        {
          "output_type": "stream",
          "name": "stdout",
          "text": [
            "Extracting data/MNIST/raw/t10k-images-idx3-ubyte.gz to data/MNIST/raw\n",
            "\n",
            "Downloading http://yann.lecun.com/exdb/mnist/t10k-labels-idx1-ubyte.gz\n",
            "Downloading http://yann.lecun.com/exdb/mnist/t10k-labels-idx1-ubyte.gz to data/MNIST/raw/t10k-labels-idx1-ubyte.gz\n"
          ]
        },
        {
          "output_type": "stream",
          "name": "stderr",
          "text": [
            "100%|██████████| 4542/4542 [00:00<00:00, 17787608.56it/s]"
          ]
        },
        {
          "output_type": "stream",
          "name": "stdout",
          "text": [
            "Extracting data/MNIST/raw/t10k-labels-idx1-ubyte.gz to data/MNIST/raw\n",
            "\n"
          ]
        },
        {
          "output_type": "stream",
          "name": "stderr",
          "text": [
            "\n"
          ]
        },
        {
          "output_type": "display_data",
          "data": {
            "text/plain": [
              "<Figure size 640x480 with 6 Axes>"
            ],
            "image/png": "[encoded data removed]"
          },
          "metadata": {}
        }
      ]
    },
    {
      "cell_type": "markdown",
      "source": [
        "#**Part 2**\n",
        "\n",
        "---\n",
        "\n",
        "\n",
        "\n",
        "###Tuning Using Hyper-parameters on Validation Set"
      ],
      "metadata": {
        "id": "0NSptL4oaYf1"
      }
    },
    {
      "cell_type": "code",
      "source": [
        "def train_using_scheduler(net,optimizer,num_epochs,scheduler=None):\n",
        "  ce_loss = nn.CrossEntropyLoss()\n",
        "  for epoch in range(num_epochs):\n",
        "      running_loss = 0.0\n",
        "      running_acc =0.0\n",
        "      for _, data in enumerate(validation_loader, 0):\n",
        "          X, y = data\n",
        "          optimizer.zero_grad()\n",
        "          outputs = net(X.view(-1, input_size))\n",
        "          loss = ce_loss(outputs, y)\n",
        "          loss.backward()\n",
        "          optimizer.step()\n",
        "          running_loss += loss.item() * X.size(0)\n",
        "          pred = outputs.argmax(dim=1, keepdim=True)\n",
        "          running_acc += pred.eq(y.view_as(pred)).sum().item()    \n",
        "      if scheduler:\n",
        "        scheduler.step\n",
        "      print (f' Epoch [{epoch+1}/{num_epochs}], Loss: {running_loss/len(train_loader.dataset):.4f}, acc: {running_acc/len(train_loader.dataset):.4f}')\n",
        "\n",
        "def lr_schedule(epoch):\n",
        "    lrate = 0.001\n",
        "    if epoch >= 50:\n",
        "        lrate = 0.0005\n",
        "    elif epoch >= 100:\n",
        "        lrate = 0.0003\n",
        "    return lrate\n",
        "\n",
        "\n",
        "\n",
        "## without any scheduler , tweeking learning rate based on epochs\n",
        "\n",
        "# net = NeuralNetwork(\"relu\")\n",
        "# optimizer = torch.optim.SGD(net.parameters(), lr=lr_schedule(10)) # 50 epochs\n",
        "# train_using_scheduler(net,optimizer,10)\n",
        "# predict(net)\n",
        "\n",
        "# net = NeuralNetwork(\"relu\")\n",
        "# optimizer = torch.optim.SGD(net.parameters(), lr=lr_schedule(50)) # 80 epochs\n",
        "# train_using_scheduler(net,optimizer,50)\n",
        "# predict(net)\n",
        "\n",
        "# net = NeuralNetwork(\"relu\")\n",
        "# optimizer = torch.optim.SGD(net.parameters(), lr=lr_schedule(100)) # 100 epochs\n",
        "# train_using_scheduler(net,optimizer,100)\n",
        "# predict(net)\n",
        "\n",
        "\n",
        "## using scheduler with same learning rate for all scheduler\n",
        "learning_rate = 0.1\n",
        "\n",
        "# print(\"Using StepLR scheduler\")\n",
        "# net = NeuralNetwork(\"relu\")\n",
        "# optimizer = torch.optim.SGD(net.parameters(), lr=learning_rate)\n",
        "# scheduler = torch.optim.lr_scheduler.StepLR(optimizer, step_size=4, gamma=0.1)\n",
        "# train_using_scheduler(net,optimizer,10,scheduler)\n",
        "# predict(net)\n",
        "\n",
        "# print(\"Using CyclicLR scheduler\")\n",
        "# net = NeuralNetwork(\"relu\")\n",
        "# optimizer = torch.optim.SGD(net.parameters(), lr=learning_rate)\n",
        "# scheduler = torch.optim.lr_scheduler.CyclicLR(optimizer, base_lr = 0.0001, max_lr = 1e-3, step_size_up = 4,mode = \"triangular\")\n",
        "# train_using_scheduler(net,optimizer,scheduler)\n",
        "# predict(net)\n",
        "\n",
        "# print(\"Using ExponentialLR scheduler\")\n",
        "# net = NeuralNetwork(\"relu\")\n",
        "# optimizer = torch.optim.SGD(net.parameters(), lr=learning_rate)\n",
        "# scheduler = torch.optim.lr_scheduler.ExponentialLR(optimizer,gamma = 0.5)\n",
        "# train_using_scheduler(net,optimizer,scheduler)\n",
        "# predict(net)\n",
        "\n",
        "# print(\"Using CosineAnnealingLR scheduler\")\n",
        "# net = NeuralNetwork(\"relu\")\n",
        "# optimizer = torch.optim.SGD(net.parameters(), lr=learning_rate)\n",
        "# scheduler = torch.optim.lr_scheduler.CosineAnnealingLR(optimizer,T_max = 32,eta_min = 1e-4)\n",
        "# train_using_scheduler(net,optimizer,scheduler)\n",
        "# predict(net)"
      ],
      "metadata": {
        "id": "1kkgh5RPRJEX"
      },
      "execution_count": null,
      "outputs": []
    },
    {
      "cell_type": "markdown",
      "source": [
        "#**Part 3**\n",
        "\n",
        "---\n",
        "\n",
        "###Gradient Clipping, batch normalisation and L1 and L2 (weight decay) regularization"
      ],
      "metadata": {
        "id": "UgoD8UF1c8uQ"
      }
    },
    {
      "cell_type": "code",
      "source": [
        "from torch.utils.data import DataLoader\n",
        "import torch\n",
        "import torch.nn as nn\n",
        "\n",
        "# Define the batch size and number of epochs\n",
        "batch_size = 64\n",
        "num_epochs = 10\n",
        "# Define the input size, hidden size, and output size\n",
        "input_size = 784 # 28x28\n",
        "hidden_size = 128\n",
        "output_size = 10\n",
        "learning_rate= 0.01\n",
        "weight_decay = 0.001\n",
        "\n",
        "\n",
        "# Define the neural network architecture\n",
        "class RegularizedNeuralNetwork(nn.Module):\n",
        "    def __init__(self,nonlin):\n",
        "        super(RegularizedNeuralNetwork, self).__init__()\n",
        "        self.fc1 = nn.Linear(input_size, hidden_size)  # Fully connected layer 1\n",
        "        self.bn1 = nn.BatchNorm1d(hidden_size) # batch normalization layer 1\n",
        "        self.fc2 = nn.Linear(hidden_size, hidden_size)  # Fully connected layer 2\n",
        "        self.bn2 = nn.BatchNorm1d(hidden_size) # batch normalization layer 2\n",
        "        self.fc3 = nn.Linear(hidden_size, output_size)  # Fully connected layer 3\n",
        "\n",
        "        if nonlin == 'relu':\n",
        "            self.nonlin = nn.ReLU()\n",
        "        elif nonlin == 'sigmoid':\n",
        "            self.nonlin = nn.Sigmoid()\n",
        "        elif nonlin == 'tanh':\n",
        "            self.nonlin = nn.Tanh()\n",
        "        elif nonlin == 'swish':\n",
        "            self.nonlin = nn.SiLU()\n",
        "\n",
        "    def forward(self, x):\n",
        "        x = self.fc1(x)\n",
        "        x = self.nonlin(x)\n",
        "        x = self.bn1(x)\n",
        "        x = self.fc2(x)\n",
        "        x = self.nonlin(x)\n",
        "        x = self.bn2(x)\n",
        "        x = self.fc3(x)\n",
        "        return x\n",
        "\n",
        "def train_regularized(model, optimizer, weight_decay):\n",
        "    ce_loss = nn.CrossEntropyLoss()\n",
        "    for epoch in range(num_epochs):\n",
        "      train_acc=0\n",
        "      train_loss=0\n",
        "      for _, (X, y) in enumerate(validation_loader,0):\n",
        "          optimizer.zero_grad()\n",
        "          # each output is of in a 64 batch size : 64 * 938 = 60,000 (train dataset size)\n",
        "          outputs = model(X.view(-1, input_size))  \n",
        "          #calculating loss function\n",
        "          loss = ce_loss(outputs, y) \n",
        "          l2_reg = torch.tensor(0.)\n",
        "          for param in model.parameters():\n",
        "              l2_reg += torch.norm(param)\n",
        "          loss += weight_decay * l2_reg      # l2 regularization\n",
        "          # calculate gradient/partial derivative\n",
        "          loss.backward()\n",
        "          # Apply gradient clipping\n",
        "          nn.utils.clip_grad_norm_(model.parameters(), 1.0)\n",
        "          # update the weights\n",
        "          optimizer.step()\n",
        "          train_loss += loss.item() * X.size(0)\n",
        "          pred = outputs.argmax(dim=1, keepdim=True)\n",
        "          train_acc += pred.eq(y.view_as(pred)).sum().item()\n",
        "      print (f' Epoch [{epoch+1}/{num_epochs}], Loss: {train_loss/len(train_loader.dataset):.4f}, acc: {train_acc/len(train_loader.dataset):.4f}')\n",
        "    \n",
        "# Create an instance of the neural network\n",
        "net = RegularizedNeuralNetwork(\"relu\")\n",
        "optimizer = torch.optim.SGD(net.parameters(), lr=learning_rate, weight_decay=weight_decay) # l1 regularization\n",
        "train_regularized(net,optimizer,weight_decay)\n",
        "predict(net)\n"
      ],
      "metadata": {
        "id": "jCdlLAYKc7kp",
        "colab": {
          "base_uri": "https://localhost:8080/"
        },
        "outputId": "32393c23-47da-40bc-f573-a0b6fe29ef7f"
      },
      "execution_count": null,
      "outputs": [
        {
          "output_type": "stream",
          "name": "stdout",
          "text": [
            " Epoch [1/10], Loss: 0.7388, acc: 0.8198\n",
            " Epoch [2/10], Loss: 0.3069, acc: 0.9305\n",
            " Epoch [3/10], Loss: 0.2355, acc: 0.9479\n",
            " Epoch [4/10], Loss: 0.1982, acc: 0.9580\n",
            " Epoch [5/10], Loss: 0.1738, acc: 0.9646\n",
            " Epoch [6/10], Loss: 0.1571, acc: 0.9686\n",
            " Epoch [7/10], Loss: 0.1454, acc: 0.9710\n",
            " Epoch [8/10], Loss: 0.1340, acc: 0.9746\n",
            " Epoch [9/10], Loss: 0.1248, acc: 0.9770\n",
            " Epoch [10/10], Loss: 0.1178, acc: 0.9791\n",
            " Accuracy on the test dataset: 97 %\n"
          ]
        }
      ]
    },
    {
      "cell_type": "markdown",
      "source": [
        "#**Part 4**\n",
        "\n",
        "---\n",
        "\n",
        "###Grid Search"
      ],
      "metadata": {
        "id": "DCw6lJx_dwNu"
      }
    },
    {
      "cell_type": "code",
      "source": [
        "from skorch import NeuralNetClassifier\n",
        "from sklearn.model_selection import GridSearchCV\n",
        "\n",
        "def fit(model, scheduler,optimizer, weight_decay):\n",
        "    ce_loss = nn.CrossEntropyLoss()\n",
        "    for epoch in range(num_epochs):\n",
        "      train_acc=0\n",
        "      train_loss=0\n",
        "      for _, (X, y) in enumerate(validation_loader,0):\n",
        "          optimizer.zero_grad()\n",
        "          # each output is of in a 64 batch size : 64 * 938 = 60,000 (train dataset size)\n",
        "          outputs = model(X.view(-1, input_size))  \n",
        "          #calculating loss function\n",
        "          loss = ce_loss(outputs, y) \n",
        "          l2_reg = torch.tensor(0.)\n",
        "          for param in model.parameters():\n",
        "              l2_reg += torch.norm(param)\n",
        "          loss += weight_decay * l2_reg      # l2 regularization\n",
        "          # calculate gradient/partial derivative\n",
        "          loss.backward()\n",
        "          # Apply gradient clipping\n",
        "          nn.utils.clip_grad_norm_(model.parameters(), 1.0)\n",
        "          # update the weights\n",
        "          optimizer.step()\n",
        "          train_loss += loss.item() * X.size(0)\n",
        "          pred = outputs.argmax(dim=1, keepdim=True)\n",
        "          train_acc += pred.eq(y.view_as(pred)).sum().item()\n",
        "      if scheduler:\n",
        "        scheduler.step\n",
        "      print (f' Epoch [{epoch+1}/{num_epochs}], Loss: {train_loss/len(train_loader.dataset):.4f}, acc: {train_acc/len(train_loader.dataset):.4f}')\n",
        "   \n",
        "\n",
        "# Define hyperparameters to search over\n",
        "lr_range = [0.001, 0.01, 0.1]\n",
        "batch_size_range = [32, 64, 128]\n",
        "\n",
        "# Create parameter grid\n",
        "param_grid = {'lr': lr_range,'batch_size': batch_size_range}\n",
        "\n",
        "net = RegularizedNeuralNetwork(\"relu\")\n",
        "ce_loss = nn.CrossEntropyLoss()\n",
        "optimizer = torch.optim.SGD(net.parameters(),lr = 0.01)\n",
        "scheduler = torch.optim.lr_scheduler.StepLR(optimizer, step_size=4, gamma=0.1)\n",
        "\n",
        "estimator = NeuralNetClassifier(\n",
        "    net,\n",
        "    max_epochs=10,\n",
        "    lr=0.01,\n",
        "    optimizer='sgd',\n",
        "    criterion=torch.nn.CrossEntropyLoss,\n",
        ")\n",
        "\n",
        "# Create GridSearchCV instance\n",
        "grid_search = GridSearchCV(estimator=estimator, param_grid=param_grid, cv=3, verbose=10)\n",
        "grid_search.fit(validation_dataset.data,validation_dataset.targets)\n",
        "print(grid_search.best_params_)\n",
        "print(grid_search.best_score_)\n"
      ],
      "metadata": {
        "id": "em_a7AI2dvJC"
      },
      "execution_count": null,
      "outputs": []
    },
    {
      "cell_type": "code",
      "source": [
        "!pip install skorch"
      ],
      "metadata": {
        "colab": {
          "base_uri": "https://localhost:8080/"
        },
        "id": "--BP1-WP8lEf",
        "outputId": "14fdcd41-a4c0-4a40-afca-4a82a73f806a"
      },
      "execution_count": null,
      "outputs": [
        {
          "output_type": "stream",
          "name": "stdout",
          "text": [
            "Looking in indexes: https://pypi.org/simple, https://us-python.pkg.dev/colab-wheels/public/simple/\n",
            "Collecting skorch\n",
            "  Downloading skorch-0.12.1-py3-none-any.whl (193 kB)\n",
            "\u001b[2K     \u001b[90m━━━━━━━━━━━━━━━━━━━━━━━━━━━━━━━━━━━━━━\u001b[0m \u001b[32m193.7/193.7 kB\u001b[0m \u001b[31m18.0 MB/s\u001b[0m eta \u001b[36m0:00:00\u001b[0m\n",
            "\u001b[?25hRequirement already satisfied: tqdm>=4.14.0 in /usr/local/lib/python3.9/dist-packages (from skorch) (4.65.0)\n",
            "Requirement already satisfied: scipy>=1.1.0 in /usr/local/lib/python3.9/dist-packages (from skorch) (1.10.1)\n",
            "Requirement already satisfied: scikit-learn>=0.22.0 in /usr/local/lib/python3.9/dist-packages (from skorch) (1.2.2)\n",
            "Requirement already satisfied: numpy>=1.13.3 in /usr/local/lib/python3.9/dist-packages (from skorch) (1.22.4)\n",
            "Requirement already satisfied: tabulate>=0.7.7 in /usr/local/lib/python3.9/dist-packages (from skorch) (0.8.10)\n",
            "Requirement already satisfied: threadpoolctl>=2.0.0 in /usr/local/lib/python3.9/dist-packages (from scikit-learn>=0.22.0->skorch) (3.1.0)\n",
            "Requirement already satisfied: joblib>=1.1.1 in /usr/local/lib/python3.9/dist-packages (from scikit-learn>=0.22.0->skorch) (1.2.0)\n",
            "Installing collected packages: skorch\n",
            "Successfully installed skorch-0.12.1\n"
          ]
        }
      ]
    },
    {
      "cell_type": "markdown",
      "source": [
        "#**Part 5**\n",
        "\n",
        "---\n",
        "\n",
        "###5-fold cross validation\n",
        "\n"
      ],
      "metadata": {
        "id": "mClIlib5d6Nv"
      }
    },
    {
      "cell_type": "code",
      "source": [
        "from torch.utils.data.sampler import SubsetRandomSampler\n",
        "from sklearn.model_selection import KFold\n",
        "\n",
        "# Define number of folds\n",
        "k = 5\n",
        "\n",
        "# Create KFold instance\n",
        "kf = KFold(n_splits=k, shuffle=True, random_state=42)\n",
        "\n",
        "# Define batch size\n",
        "batch_size = 64\n",
        "\n",
        "# Define number of epochs\n",
        "num_epochs = 10\n",
        "\n",
        "# Loop over folds\n",
        "for fold, (train_indices, test_indices) in enumerate(kf.split(range(len(train_dataset)))):\n",
        "\n",
        "    # Create train and test samplers\n",
        "    train_sampler = SubsetRandomSampler(train_indices)\n",
        "    test_sampler = SubsetRandomSampler(test_indices)\n",
        "\n",
        "    # Create data loaders\n",
        "    train_loader = torch.utils.data.DataLoader(train_dataset, batch_size=batch_size, sampler=train_sampler)\n",
        "    test_loader = torch.utils.data.DataLoader(train_dataset, batch_size=batch_size, sampler=test_sampler)\n",
        "\n",
        "    #Define model, criterion, optimizer, and scheduler\n",
        "    model = NeuralNetwork(\"relu\")\n",
        "    criterion = nn.CrossEntropyLoss()\n",
        "    optimizer = torch.optim.SGD(model.parameters(), lr=0.01)\n",
        "    scheduler = torch.optim.lr_scheduler.StepLR(optimizer, step_size=4, gamma=0.1)\n",
        "\n",
        "    # Train model\n",
        "    train_using_scheduler(model, optimizer,num_epochs ,scheduler)\n",
        "\n",
        "    # Evaluate model\n",
        "    predict(model)\n",
        "\n",
        "    # Print results\n",
        "    # print(f\"Fold {fold + 1}: Train Acc: {train_accs[-1]:.4f}, Valid Acc: {valid_accs[-1]:.4f}, Test Acc: {test_acc:.4f}\")\n",
        "\n",
        "# Evaluate base model\n",
        "predict(model)\n",
        "\n",
        "# Print results\n",
        "# print(f\"Base Model: Test Acc: {test_acc:.4f}\")\n"
      ],
      "metadata": {
        "id": "rQnWEy1id52R"
      },
      "execution_count": null,
      "outputs": []
    },
    {
      "cell_type": "markdown",
      "source": [
        "#**Part 6** \n",
        "\n",
        "---\n",
        "\n",
        "\n",
        "###Saving and Loading Model"
      ],
      "metadata": {
        "id": "gwlz3GEQZjRS"
      }
    },
    {
      "cell_type": "code",
      "source": [
        "PATH = './cnn.pth'\n",
        "torch.save(net.state_dict(), PATH)\n",
        "\n",
        "device = torch.device('cuda' if torch.cuda.is_available() else 'cpu')\n",
        "\n",
        "loaded_model = NeuralNetwork()\n",
        "loaded_model.load_state_dict(torch.load(PATH)) # it takes the loaded dictionary, not the path file itself\n",
        "loaded_model.to(device)\n",
        "loaded_model.eval()"
      ],
      "metadata": {
        "id": "_37YxBjlXu0y"
      },
      "execution_count": null,
      "outputs": []
    }
  ]
}